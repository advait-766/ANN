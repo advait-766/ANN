{
  "nbformat": 4,
  "nbformat_minor": 0,
  "metadata": {
    "colab": {
      "provenance": []
    },
    "kernelspec": {
      "name": "python3",
      "display_name": "Python 3"
    },
    "language_info": {
      "name": "python"
    }
  },
  "cells": [
    {
      "cell_type": "code",
      "execution_count": 3,
      "metadata": {
        "colab": {
          "base_uri": "https://localhost:8080/"
        },
        "id": "IM-paAAkpbeI",
        "outputId": "3ac1787b-8cd9-4d78-b2bd-d2095e45c83e"
      },
      "outputs": [
        {
          "output_type": "stream",
          "name": "stdout",
          "text": [
            "Output of the neural network after training:\n",
            "[[0.35044   ]\n",
            " [0.50836821]\n",
            " [0.63635793]]\n"
          ]
        }
      ],
      "source": [
        "import numpy as np\n",
        "\n",
        "class NeuralNetwork:\n",
        "    def __init__(self, input_size, hidden_size, output_size):\n",
        "        self.input_size = input_size\n",
        "        self.hidden_size = hidden_size\n",
        "        self.output_size = output_size\n",
        "        self.W1 = np.random.randn(input_size, hidden_size)  # Weight matrix for input to hidden layer\n",
        "        self.b1 = np.zeros((1, hidden_size))  # Bias for hidden layer\n",
        "        self.W2 = np.random.randn(hidden_size, output_size)  # Weight matrix for hidden to output layer\n",
        "        self.b2 = np.zeros((1, output_size))  # Bias for output layer\n",
        "\n",
        "    def sigmoid(self, x):\n",
        "        return 1 / (1 + np.exp(-x))\n",
        "\n",
        "    def sigmoid_derivative(self, x):\n",
        "        return x * (1 - x)\n",
        "\n",
        "    def forward(self, X):\n",
        "        # Compute activations of hidden layer\n",
        "        self.z1 = np.dot(X, self.W1) + self.b1  # Weighted sum\n",
        "        self.a1 = self.sigmoid(self.z1)  # Activation using sigmoid function\n",
        "\n",
        "        # Compute activations of output layer\n",
        "        self.z2 = np.dot(self.a1, self.W2) + self.b2  # Weighted sum\n",
        "        self.a2 = self.sigmoid(self.z2)  # Activation using sigmoid function\n",
        "\n",
        "        return self.a2  # Return output of output layer\n",
        "\n",
        "    def backward(self, X, y, output, learning_rate):\n",
        "        # Compute gradients of loss function with respect to weights and biases\n",
        "        error = y - output\n",
        "        delta_output = error * self.sigmoid_derivative(output)  # Compute delta for output layer\n",
        "        error_hidden = delta_output.dot(self.W2.T)  # Compute error for hidden layer\n",
        "        delta_hidden = error_hidden * self.sigmoid_derivative(self.a1)  # Compute delta for hidden layer\n",
        "\n",
        "        # Update weights and biases using gradients\n",
        "        self.W2 += self.a1.T.dot(delta_output) * learning_rate\n",
        "        self.b2 += np.sum(delta_output, axis=0, keepdims=True) * learning_rate\n",
        "        self.W1 += X.T.dot(delta_hidden) * learning_rate\n",
        "        self.b1 += np.sum(delta_hidden, axis=0, keepdims=True) * learning_rate\n",
        "\n",
        "    def train(self, X, y, epochs, learning_rate):\n",
        "        for i in range(epochs):\n",
        "            # Perform forward propagation\n",
        "            output = self.forward(X)\n",
        "\n",
        "            # Perform backpropagation and update weights and biases\n",
        "            self.backward(X, y, output, learning_rate)\n",
        "\n",
        "# Example usage\n",
        "input_size = 2\n",
        "hidden_size = 3\n",
        "output_size = 1\n",
        "\n",
        "# Create neural network\n",
        "nn = NeuralNetwork(input_size, hidden_size, output_size)\n",
        "\n",
        "# Generate sample input and output data\n",
        "X = np.array([[0.1, 0.2], [0.3, 0.4], [0.5, 0.6]])\n",
        "y = np.array([[0.3], [0.5], [0.7]])\n",
        "\n",
        "# Train the neural network\n",
        "nn.train(X, y, epochs=1000, learning_rate=0.1)\n",
        "\n",
        "# Perform forward propagation to get predictions after training\n",
        "output_after_training = nn.forward(X)\n",
        "print(\"Output of the neural network after training:\")\n",
        "print(output_after_training)\n"
      ]
    }
  ]
}